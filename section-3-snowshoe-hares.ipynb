{
 "cells": [
  {
   "cell_type": "markdown",
   "id": "0738b5f7-b7b4-4953-ba9e-bd16a8362be8",
   "metadata": {},
   "source": [
    "![Snowshoe](https://upload.wikimedia.org/wikipedia/commons/8/8a/SNOWSHOE_HARE_%28Lepus_americanus%29_%285-28-2015%29_quoddy_head%2C_washington_co%2C_maine_-01_%2818988734889%29.jpg)"
   ]
  },
  {
   "cell_type": "markdown",
   "id": "c752c5bb-796f-4c37-bb2e-77c523f7231a",
   "metadata": {},
   "source": [
    "photographer:\n",
    "ALAN SCHMIERER\n",
    "https://www.flickr.com/people/8101022@N05\n",
    "\n"
   ]
  },
  {
   "cell_type": "code",
   "execution_count": null,
   "id": "933fddbe-3596-4ee5-b5cb-dfb6e4cc99b4",
   "metadata": {},
   "outputs": [],
   "source": [
    "# 3. Data loading and preliminary exploration"
   ]
  },
  {
   "cell_type": "code",
   "execution_count": 4,
   "id": "443ddeda-3ede-43f5-83ea-369361ade6ec",
   "metadata": {
    "tags": []
   },
   "outputs": [],
   "source": [
    "import pandas as pd\n",
    "URL = \"https://pasta.lternet.edu/package/data/eml/knb-lter-bnz/55/22/f01f5d71be949b8c700b6ecd1c42c701\"\n",
    "hares = pd.read_csv(URL)\n"
   ]
  },
  {
   "cell_type": "code",
   "execution_count": 6,
   "id": "a02cf93b-2a97-4231-9cf0-264c7c8ef2d2",
   "metadata": {
    "tags": []
   },
   "outputs": [
    {
     "data": {
      "text/plain": [
       "<bound method DataFrame.info of             date      time    grid trap       l_ear r_ear  sex  age  weight  \\\n",
       "0     11/26/1998       NaN  bonrip   1A  414D096A08   NaN  NaN  NaN  1370.0   \n",
       "1     11/26/1998       NaN  bonrip   2C  414D320671   NaN    M  NaN  1430.0   \n",
       "2     11/26/1998       NaN  bonrip   2D  414D103E3A   NaN    M  NaN  1430.0   \n",
       "3     11/26/1998       NaN  bonrip   2E  414D262D43   NaN  NaN  NaN  1490.0   \n",
       "4     11/26/1998       NaN  bonrip   3B  414D2B4B58   NaN  NaN  NaN  1710.0   \n",
       "...          ...       ...     ...  ...         ...   ...  ...  ...     ...   \n",
       "3375    8/8/2002  18:00:00  bonrip  1b         1201  1202  NaN  NaN  1400.0   \n",
       "3376    8/8/2002   6:00:00  bonrip  4b         1201  1202  NaN  NaN     NaN   \n",
       "3377    8/7/2002       NaN  bonrip   4b        1217  1218  NaN  NaN  1000.0   \n",
       "3378    8/8/2002       NaN  bonrip   6d        1217  1218  NaN  NaN   990.0   \n",
       "3379    8/6/2002       NaN  bonrip   4b        1058  1060    M  NaN  1460.0   \n",
       "\n",
       "      hindft notes  b_key  session_id       study  \n",
       "0      160.0   NaN  917.0          51  Population  \n",
       "1        NaN   NaN  936.0          51  Population  \n",
       "2        NaN   NaN  921.0          51  Population  \n",
       "3      135.0   NaN  931.0          51  Population  \n",
       "4      150.0   NaN  933.0          51  Population  \n",
       "...      ...   ...    ...         ...         ...  \n",
       "3375     NaN   NaN   63.0          64  Population  \n",
       "3376     NaN   NaN   63.0          64  Population  \n",
       "3377   134.0   NaN   69.0          64  Population  \n",
       "3378     NaN   NaN   69.0          64  Population  \n",
       "3379   119.0   NaN   32.0          64  Population  \n",
       "\n",
       "[3380 rows x 14 columns]>"
      ]
     },
     "execution_count": 6,
     "metadata": {},
     "output_type": "execute_result"
    }
   ],
   "source": [
    "hares.info"
   ]
  },
  {
   "cell_type": "code",
   "execution_count": 9,
   "id": "2416a235-2cd3-4385-b631-b5b73e4c52f2",
   "metadata": {
    "tags": []
   },
   "outputs": [
    {
     "name": "stdout",
     "output_type": "stream",
     "text": [
      "<class 'pandas.core.frame.DataFrame'>\n",
      "RangeIndex: 3380 entries, 0 to 3379\n",
      "Data columns (total 14 columns):\n",
      " #   Column      Non-Null Count  Dtype  \n",
      "---  ------      --------------  -----  \n",
      " 0   date        3380 non-null   object \n",
      " 1   time        264 non-null    object \n",
      " 2   grid        3380 non-null   object \n",
      " 3   trap        3368 non-null   object \n",
      " 4   l_ear       3332 non-null   object \n",
      " 5   r_ear       3211 non-null   object \n",
      " 6   sex         3028 non-null   object \n",
      " 7   age         1269 non-null   object \n",
      " 8   weight      2845 non-null   float64\n",
      " 9   hindft      1633 non-null   float64\n",
      " 10  notes       243 non-null    object \n",
      " 11  b_key       3333 non-null   float64\n",
      " 12  session_id  3380 non-null   int64  \n",
      " 13  study       3217 non-null   object \n",
      "dtypes: float64(3), int64(1), object(10)\n",
      "memory usage: 369.8+ KB\n"
     ]
    }
   ],
   "source": [
    "hares.dtypes\n",
    "hares.info()"
   ]
  },
  {
   "cell_type": "code",
   "execution_count": 16,
   "id": "9228b6e2-f0d5-45b0-93ac-0b776304df85",
   "metadata": {
    "tags": []
   },
   "outputs": [
    {
     "name": "stdout",
     "output_type": "stream",
     "text": [
      "2365.0\n",
      "0.0\n",
      "160.0\n",
      "60.0\n"
     ]
    }
   ],
   "source": [
    "print(hares['weight'].max())\n",
    "print(hares['weight'].min())\n",
    "print(hares['hindft'].max())\n",
    "print(hares['hindft'].min())"
   ]
  },
  {
   "cell_type": "code",
   "execution_count": 20,
   "id": "331a319b-9e4a-4c28-8112-0fe4af74860a",
   "metadata": {
    "tags": []
   },
   "outputs": [
    {
     "name": "stdout",
     "output_type": "stream",
     "text": [
      "[nan 'M' 'F' '?' 'F?' 'M?' 'pf' 'm' 'f' 'f?' 'm?' 'f ' 'm ']\n",
      "['414D096A08' '414D320671' '414D103E3A' ... '1827' '1825' '1215']\n",
      "[nan 'J' 'A' 'a 1 yr.' 'a 3/4 yr.' 'a 1 yr' '1 yr' '1 yr.' '2 yrs.'\n",
      " '2 yrs' 'a 2 yrs.' '2.25 yrs' '3.5 yrs.' '3 yrs.' '2.5 yrs' '3.25 yrs.'\n",
      " 'A 1.5' '?' 'U' 'j' 'a' 'u' 'J 3/4' 'A 3/4' 'A 1/2' '3/4/2013' '1/4/2013'\n",
      " '1/2/2013' '1' '1.25' '1.5']\n"
     ]
    }
   ],
   "source": [
    "print(hares['sex'].unique())\n",
    "print(hares['l_ear'].unique())\n",
    "print(hares['age'].unique())"
   ]
  },
  {
   "cell_type": "markdown",
   "id": "514b673c-0b55-475e-82e5-40ba44340e3d",
   "metadata": {},
   "source": [
    "# 4. Detecting messy values"
   ]
  },
  {
   "cell_type": "markdown",
   "id": "479f0201-5bb3-4288-a3e2-49e989eec197",
   "metadata": {
    "tags": []
   },
   "source": [
    "### Table of allowed values for x\n",
    "\n",
    "|variable name|definition| \n",
    "|---|---| \n",
    "|m|male| \n",
    "|f| female|\n",
    "|m?|male unconfirmed|"
   ]
  },
  {
   "cell_type": "code",
   "execution_count": 35,
   "id": "5a42f377-84e3-4983-a070-89a8cee53470",
   "metadata": {
    "tags": []
   },
   "outputs": [
    {
     "data": {
      "text/plain": [
       "sex\n",
       "?       40\n",
       "F     1161\n",
       "F?      10\n",
       "M      730\n",
       "M?       2\n",
       "f      556\n",
       "f        4\n",
       "f?       3\n",
       "m      515\n",
       "m        4\n",
       "m?       2\n",
       "pf       1\n",
       "dtype: int64"
      ]
     },
     "execution_count": 35,
     "metadata": {},
     "output_type": "execute_result"
    }
   ],
   "source": [
    "hares.groupby('sex').size()"
   ]
  },
  {
   "cell_type": "code",
   "execution_count": 42,
   "id": "698a6320-193f-4bc5-a000-1b6aab63cc50",
   "metadata": {
    "tags": []
   },
   "outputs": [],
   "source": [
    "# heres.value_counts?"
   ]
  },
  {
   "cell_type": "code",
   "execution_count": 43,
   "id": "f1127472-c60a-460f-b67a-01e0c85e57ba",
   "metadata": {
    "tags": []
   },
   "outputs": [
    {
     "data": {
      "text/plain": [
       "sex\n",
       "F      1161\n",
       "M       730\n",
       "f       556\n",
       "m       515\n",
       "NaN     352\n",
       "?        40\n",
       "F?       10\n",
       "f         4\n",
       "m         4\n",
       "f?        3\n",
       "M?        2\n",
       "m?        2\n",
       "pf        1\n",
       "Name: count, dtype: int64"
      ]
     },
     "execution_count": 43,
     "metadata": {},
     "output_type": "execute_result"
    }
   ],
   "source": [
    "hares['sex'].value_counts(dropna = False)"
   ]
  },
  {
   "cell_type": "markdown",
   "id": "8bfe264f-f0af-4cd2-9358-96c0f6b8c5b4",
   "metadata": {},
   "source": [
    "The values in the \"sex column do not match the metadata; there are many repeated observations with codes not allowed according to the metadata. This could be coused by sampling/data entry differences, and lack of protocol"
   ]
  }
 ],
 "metadata": {
  "kernelspec": {
   "display_name": "EDS220",
   "language": "python",
   "name": "eds220-env"
  },
  "language_info": {
   "codemirror_mode": {
    "name": "ipython",
    "version": 3
   },
   "file_extension": ".py",
   "mimetype": "text/x-python",
   "name": "python",
   "nbconvert_exporter": "python",
   "pygments_lexer": "ipython3",
   "version": "3.11.4"
  }
 },
 "nbformat": 4,
 "nbformat_minor": 5
}
